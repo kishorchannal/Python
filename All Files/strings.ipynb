{
 "cells": [
  {
   "cell_type": "markdown",
   "metadata": {},
   "source": [
    "#### String Properties"
   ]
  },
  {
   "cell_type": "markdown",
   "metadata": {},
   "source": [
    "1. immutable\n",
    "2. ordered\n",
    "3. allow duplicate elements\n",
    "4. only char data-types"
   ]
  },
  {
   "cell_type": "markdown",
   "metadata": {},
   "source": [
    "####  creation"
   ]
  },
  {
   "cell_type": "code",
   "execution_count": 9,
   "metadata": {},
   "outputs": [],
   "source": [
    "my_string = ''\n",
    "my_string = \" \"\n",
    "my_string = \"\"\" \"\"\"\n",
    "\n",
    "my_string = str(['hello'])"
   ]
  },
  {
   "cell_type": "markdown",
   "metadata": {},
   "source": [
    "#### insertion "
   ]
  },
  {
   "cell_type": "markdown",
   "metadata": {},
   "source": [
    "Strings are immutable"
   ]
  },
  {
   "cell_type": "markdown",
   "metadata": {},
   "source": [
    "#### deletion"
   ]
  },
  {
   "cell_type": "code",
   "execution_count": 2,
   "metadata": {},
   "outputs": [],
   "source": [
    "# strings are immutable, no operations are in-place\n",
    "\n",
    "my_str = 'abcda'\n",
    "new_str = my_str.replace('a', 'x')                       # replace all values of a with x"
   ]
  },
  {
   "cell_type": "markdown",
   "metadata": {},
   "source": [
    "#### traverse"
   ]
  },
  {
   "cell_type": "code",
   "execution_count": 6,
   "metadata": {},
   "outputs": [
    {
     "name": "stdout",
     "output_type": "stream",
     "text": [
      "a\n",
      "b\n",
      "c\n",
      "d\n",
      "0 a\n",
      "1 b\n",
      "2 c\n",
      "3 d\n",
      "0 a\n",
      "1 b\n",
      "2 c\n",
      "3 d\n",
      "a\n",
      "d\n",
      "c\n",
      "b\n",
      "a\n",
      "a\n",
      "b\n",
      "c\n",
      "d\n"
     ]
    }
   ],
   "source": [
    "my_string = 'abcd' \n",
    "                  \n",
    "for i in my_string:                          # for loop\n",
    "    print(i)\n",
    "    \n",
    "for i in range(len(my_string)):\n",
    "    print(i, my_string[i])\n",
    "    \n",
    "for i, char in enumerate(my_string):        # slice operator\n",
    "    print(i, char)\n",
    "    \n",
    "for i in my_str[::-1]:\n",
    "    print(i)\n",
    "    \n",
    "i = 0\n",
    "while i < len(my_string):                   # while loop\n",
    "    print(my_string[i])\n",
    "    i += 1\n",
    "    "
   ]
  },
  {
   "cell_type": "markdown",
   "metadata": {},
   "source": [
    "#### search"
   ]
  },
  {
   "cell_type": "code",
   "execution_count": 11,
   "metadata": {},
   "outputs": [
    {
     "name": "stdout",
     "output_type": "stream",
     "text": [
      "4\n",
      "2\n",
      "5\n"
     ]
    }
   ],
   "source": [
    "my_str = 'abcdeffg'\n",
    "\n",
    "'a' in my_str                     # in operator\n",
    "\n",
    "e_index = my_str.index('e')        # index of an item, raises exception if not found \n",
    "print(e_index)\n",
    " \n",
    "f_count = my_str.count('f')        # getting count of item\n",
    "print(f_count)\n",
    "\n",
    "\n",
    "f_index = my_str.find('f')         # index of first matching character or substring, gives -1 if not found\n",
    "print(f_index)"
   ]
  },
  {
   "cell_type": "markdown",
   "metadata": {},
   "source": [
    "#### sort"
   ]
  },
  {
   "cell_type": "code",
   "execution_count": 14,
   "metadata": {},
   "outputs": [
    {
     "name": "stdout",
     "output_type": "stream",
     "text": [
      "['a', 'b', 'e', 'g', 'r']\n",
      "['r', 'g', 'e', 'b', 'a']\n"
     ]
    }
   ],
   "source": [
    "# string is immutable\n",
    "\n",
    "my_str = 'ebgar'\n",
    " \n",
    "new_str = sorted(my_str)    # returns new sortrted list\n",
    "print(new_str)\n",
    "\n",
    "new_str2 = sorted(my_str, reverse=True)\n",
    "print(new_str2)"
   ]
  },
  {
   "cell_type": "markdown",
   "metadata": {},
   "source": [
    "#### concatinate"
   ]
  },
  {
   "cell_type": "code",
   "execution_count": 16,
   "metadata": {},
   "outputs": [
    {
     "name": "stdout",
     "output_type": "stream",
     "text": [
      "abccdef\n",
      "abccdef\n"
     ]
    }
   ],
   "source": [
    "str1 = 'abc'\n",
    "str2 = 'cdef'\n",
    "\n",
    "str3 = str1 + str2            # using + operator\n",
    "print(str3)\n",
    "\n",
    "str4 = str1.join(str2)\n",
    "print(str3)\n"
   ]
  },
  {
   "cell_type": "markdown",
   "metadata": {},
   "source": [
    "#### split"
   ]
  },
  {
   "cell_type": "code",
   "execution_count": 24,
   "metadata": {},
   "outputs": [
    {
     "name": "stdout",
     "output_type": "stream",
     "text": [
      "['welcome', 'to', 'the', 'jungle']\n",
      "['welcome', 'to,the,jungle']\n"
     ]
    }
   ],
   "source": [
    "my_str = 'welcome,to,the,jungle'\n",
    "\n",
    "split_string_list = my_str.split(',')              # split() returns list\n",
    "print(split_string_list)\n",
    "\n",
    "\n",
    "\n",
    "split_string_list2 = my_str.split(',', 1)\n",
    "print(split_string_list2)"
   ]
  }
 ],
 "metadata": {
  "kernelspec": {
   "display_name": "Python 3",
   "language": "python",
   "name": "python3"
  },
  "language_info": {
   "codemirror_mode": {
    "name": "ipython",
    "version": 3
   },
   "file_extension": ".py",
   "mimetype": "text/x-python",
   "name": "python",
   "nbconvert_exporter": "python",
   "pygments_lexer": "ipython3",
   "version": "3.8.3"
  },
  "toc": {
   "base_numbering": 1,
   "nav_menu": {},
   "number_sections": true,
   "sideBar": true,
   "skip_h1_title": false,
   "title_cell": "Table of Contents",
   "title_sidebar": "Contents",
   "toc_cell": false,
   "toc_position": {},
   "toc_section_display": true,
   "toc_window_display": true
  }
 },
 "nbformat": 4,
 "nbformat_minor": 4
}
