{
 "cells": [
  {
   "cell_type": "markdown",
   "metadata": {},
   "source": [
    "#### Class"
   ]
  },
  {
   "cell_type": "markdown",
   "metadata": {},
   "source": [
    "* Class is blue print of an object\n",
    "* Has attributes and methods"
   ]
  },
  {
   "cell_type": "markdown",
   "metadata": {},
   "source": [
    "Attributes: "
   ]
  },
  {
   "cell_type": "code",
   "execution_count": 7,
   "metadata": {},
   "outputs": [
    {
     "name": "stdout",
     "output_type": "stream",
     "text": [
      "<class '__main__.MyClass'>\n",
      "<class 'type'>\n"
     ]
    }
   ],
   "source": [
    "class MyClass():\n",
    "    pass\n",
    "\n",
    "obj1 = MyClass()\n",
    "print(type(obj1))\n",
    "\n",
    "obj2 = MyClass\n",
    "print(type(obj2))"
   ]
  },
  {
   "cell_type": "markdown",
   "metadata": {},
   "source": [
    "Assigning values to attributes :\n",
    "* initilizing\n",
    "* assigning "
   ]
  },
  {
   "cell_type": "code",
   "execution_count": 9,
   "metadata": {},
   "outputs": [
    {
     "name": "stdout",
     "output_type": "stream",
     "text": [
      "10\n",
      "abc\n"
     ]
    }
   ],
   "source": [
    "class MyClass():\n",
    "    class_attr1 = 10\n",
    "    class_attr2 = 'abc'\n",
    "    \n",
    "obj1 = MyClass()\n",
    "\n",
    "print(obj1.class_attr1)\n",
    "print(obj1.class_attr2)"
   ]
  },
  {
   "cell_type": "code",
   "execution_count": 12,
   "metadata": {},
   "outputs": [
    {
     "name": "stdout",
     "output_type": "stream",
     "text": [
      "10\n",
      "abc\n"
     ]
    }
   ],
   "source": [
    "class MyClass():\n",
    "    class_attr1 = None\n",
    "    class_attr2 = None\n",
    "    \n",
    "obj1 = MyClass()\n",
    "\n",
    "obj1.class_attr1 = 10\n",
    "obj1.class_attr2 = 'abc'\n",
    "\n",
    "print(obj1.class_attr1)\n",
    "print(obj1.class_attr2)"
   ]
  },
  {
   "cell_type": "markdown",
   "metadata": {},
   "source": [
    "Creating attributes outside a class"
   ]
  },
  {
   "cell_type": "code",
   "execution_count": 13,
   "metadata": {},
   "outputs": [
    {
     "name": "stdout",
     "output_type": "stream",
     "text": [
      "10\n",
      "abc\n",
      "3\n"
     ]
    }
   ],
   "source": [
    "class MyClass():\n",
    "    class_attr1 = None\n",
    "    class_attr2 = None\n",
    "    \n",
    "obj1 = MyClass()\n",
    "\n",
    "obj1.class_attr1 = 10\n",
    "obj1.class_attr2 = 'abc'\n",
    "obj1.attr3 = 3\n",
    "\n",
    "print(obj1.class_attr1)\n",
    "print(obj1.class_attr2)\n",
    "print(obj1.attr3)\n"
   ]
  },
  {
   "cell_type": "markdown",
   "metadata": {},
   "source": [
    "init() \n",
    "* special method used to iniitalize object of a class\n",
    "* used to define and assign values to Instance variables "
   ]
  },
  {
   "cell_type": "code",
   "execution_count": 14,
   "metadata": {},
   "outputs": [
    {
     "name": "stdout",
     "output_type": "stream",
     "text": [
      "class attribute 10 abc\n",
      "class attribute 20 xyz\n"
     ]
    }
   ],
   "source": [
    "class MyClass():\n",
    "    class_attr1 = 'class attribute'\n",
    "    def __init__(self, inst_var1, inst_var2):\n",
    "        self.inst_var1 = inst_var1\n",
    "        self.inst_var2 = inst_var2\n",
    "        \n",
    "obj1 = MyClass(10, 'abc')\n",
    "obj2 = MyClass(20, 'xyz')\n",
    "\n",
    "print(obj1.class_attr1, obj1.inst_var1, obj1.inst_var2)\n",
    "print(obj2.class_attr1, obj2.inst_var1, obj2.inst_var2)"
   ]
  },
  {
   "cell_type": "markdown",
   "metadata": {},
   "source": [
    "init() with optional/default parameters"
   ]
  },
  {
   "cell_type": "code",
   "execution_count": 15,
   "metadata": {},
   "outputs": [
    {
     "name": "stdout",
     "output_type": "stream",
     "text": [
      "None 0\n",
      "abc 10\n"
     ]
    }
   ],
   "source": [
    "class MyClass():\n",
    "    def __init__(self, inst_var1 = None, inst_var2 = 0):\n",
    "        self.inst_var1 = inst_var1\n",
    "        self.inst_var2 = inst_var2\n",
    "        \n",
    "obj1 = MyClass()\n",
    "obj2 = MyClass('abc', 10)\n",
    "\n",
    "print(obj1.inst_var1, obj1.inst_var2)\n",
    "print(obj2.inst_var1, obj2.inst_var2)"
   ]
  },
  {
   "cell_type": "markdown",
   "metadata": {},
   "source": [
    "Methods:"
   ]
  },
  {
   "cell_type": "markdown",
   "metadata": {},
   "source": [
    "Class methods\n",
    "* cls: used as first parameter\n",
    "* used to access or modify class attributes, \n",
    "* @classmethod decorator is used\n",
    "* can be accessed without creating class, directly from class name\n"
   ]
  },
  {
   "cell_type": "code",
   "execution_count": 42,
   "metadata": {},
   "outputs": [
    {
     "name": "stdout",
     "output_type": "stream",
     "text": [
      "class attribute\n"
     ]
    }
   ],
   "source": [
    "class MyClass:\n",
    "    class_attr = 'class attribute'  # class variables\n",
    "\n",
    "    @classmethod\n",
    "    def display(cls):\n",
    "        return cls.class_attr\n",
    "\n",
    "\n",
    "print(MyClass.display())"
   ]
  },
  {
   "cell_type": "markdown",
   "metadata": {},
   "source": [
    "Instance methods\n",
    "* self: used as first parameter"
   ]
  },
  {
   "cell_type": "code",
   "execution_count": 19,
   "metadata": {},
   "outputs": [
    {
     "name": "stdout",
     "output_type": "stream",
     "text": [
      "abc 10\n"
     ]
    }
   ],
   "source": [
    "class MyClass():\n",
    "    def __init__(self, init_var1 = None, init_var2 = 0):\n",
    "        self.init_var1 = init_var1\n",
    "        self.init_var2 = init_var2\n",
    "        \n",
    "    def display(self):\n",
    "        print(self.init_var1, self.init_var2)\n",
    "        \n",
    "obj1 = MyClass('abc', 10)\n",
    "obj1.display()"
   ]
  },
  {
   "cell_type": "markdown",
   "metadata": {},
   "source": [
    "Static Methods\n",
    "* they are used for utility purpose\n",
    "* dont work on instance variables or class attributes\n",
    "* @staticmethod decorator is used"
   ]
  },
  {
   "cell_type": "code",
   "execution_count": 44,
   "metadata": {},
   "outputs": [
    {
     "name": "stdout",
     "output_type": "stream",
     "text": [
      "static method\n",
      "static method\n"
     ]
    }
   ],
   "source": [
    "class MyClass():\n",
    "    \n",
    "    @staticmethod\n",
    "    def demo():\n",
    "        print('static method')\n",
    "        \n",
    "MyClass.demo()\n",
    "obj1 = MyClass()\n",
    "obj1.demo()"
   ]
  },
  {
   "cell_type": "markdown",
   "metadata": {},
   "source": [
    "Method Overloading\n",
    "* same method name\n",
    "* different number of arguments or different argument types\n",
    "* explicit overloading is not supported\n",
    "    * in Python if we overload a method, always latest method is used\n",
    "    * to achive overloading, we can __use optional parameter__"
   ]
  },
  {
   "cell_type": "code",
   "execution_count": 27,
   "metadata": {},
   "outputs": [
    {
     "name": "stdout",
     "output_type": "stream",
     "text": [
      "Hello \n",
      "Hello John\n"
     ]
    }
   ],
   "source": [
    "class Human():\n",
    "    def sayHello(self, name=None):\n",
    "        if name is not None:\n",
    "            print('Hello ' + name)\n",
    "        else:\n",
    "            print('Hello ')\n",
    "\n",
    "\n",
    "obj1 = Human()\n",
    "obj1.sayHello()\n",
    "obj1.sayHello('John')"
   ]
  },
  {
   "cell_type": "markdown",
   "metadata": {},
   "source": [
    "#### Encapsulation"
   ]
  },
  {
   "cell_type": "markdown",
   "metadata": {},
   "source": [
    "* Binding Data and Methods together in a single unit. i.e Class\n",
    "* Puts restrictions on accessing variables and methods directly\n",
    "* Python provides access to all the variables and methods globally\n",
    "* To control access\n",
    "    1. use _ or __\n",
    "    2. use Setter and Getter methods"
   ]
  },
  {
   "cell_type": "code",
   "execution_count": 7,
   "metadata": {},
   "outputs": [
    {
     "name": "stdout",
     "output_type": "stream",
     "text": [
      "Dev\n",
      "30\n",
      "Dev\n",
      "30\n"
     ]
    }
   ],
   "source": [
    "# using single _   : still accessable, but ells other programmers that the variables \n",
    "# or methods have to be used only within the scope of the class\n",
    "\n",
    "class Person:\n",
    "    def __init__(self, name, age = 0):\n",
    "        self.name = name\n",
    "        self._age = age\n",
    "    \n",
    "    def display(self):\n",
    "        print(self.name)\n",
    "        print(self._age)\n",
    "        \n",
    "obj = Person('Dev', 30)\n",
    "\n",
    "obj.display()\n",
    "print(obj.name)\n",
    "print(obj._age)\n"
   ]
  },
  {
   "cell_type": "code",
   "execution_count": 8,
   "metadata": {},
   "outputs": [],
   "source": [
    " # using __"
   ]
  },
  {
   "cell_type": "code",
   "execution_count": 10,
   "metadata": {},
   "outputs": [
    {
     "name": "stdout",
     "output_type": "stream",
     "text": [
      "Dev\n",
      "30\n",
      "14\n"
     ]
    }
   ],
   "source": [
    "# Setter and Getter methods\n",
    "\n",
    "class Person:\n",
    "    def __init__(self, name, age = 0):\n",
    "        self.name = name\n",
    "        self.__age = age\n",
    "        \n",
    "    def display(self):\n",
    "        print(self.name)\n",
    "        print(self.__age)\n",
    "        \n",
    "    def getAge(self):\n",
    "        print(self.__age)\n",
    "        \n",
    "    def setAge(self, age):\n",
    "        self.__age = age\n",
    "        \n",
    "        \n",
    "obj = Person('Dev', 30)\n",
    "\n",
    "obj.display()\n",
    "obj.setAge(14)\n",
    "obj.getAge()\n",
    "\n",
    "        \n"
   ]
  },
  {
   "cell_type": "markdown",
   "metadata": {},
   "source": [
    "#### Inheritance"
   ]
  },
  {
   "cell_type": "markdown",
   "metadata": {},
   "source": [
    "* Capability of one class to derive or inherit the properties from another class\n"
   ]
  }
 ],
 "metadata": {
  "kernelspec": {
   "display_name": "Python 3",
   "language": "python",
   "name": "python3"
  },
  "language_info": {
   "codemirror_mode": {
    "name": "ipython",
    "version": 3
   },
   "file_extension": ".py",
   "mimetype": "text/x-python",
   "name": "python",
   "nbconvert_exporter": "python",
   "pygments_lexer": "ipython3",
   "version": "3.8.3"
  },
  "toc": {
   "base_numbering": 1,
   "nav_menu": {},
   "number_sections": true,
   "sideBar": true,
   "skip_h1_title": false,
   "title_cell": "Table of Contents",
   "title_sidebar": "Contents",
   "toc_cell": false,
   "toc_position": {},
   "toc_section_display": true,
   "toc_window_display": true
  }
 },
 "nbformat": 4,
 "nbformat_minor": 4
}
