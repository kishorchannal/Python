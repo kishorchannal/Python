{
 "cells": [
  {
   "cell_type": "markdown",
   "metadata": {
    "heading_collapsed": true
   },
   "source": [
    "### Data Types"
   ]
  },
  {
   "cell_type": "markdown",
   "metadata": {
    "hidden": true
   },
   "source": [
    "    1. Properties matrix :\n",
    "    2. Common operations : creation \n",
    "                           insertion\n",
    "                           access elements\n",
    "                           replace elements\n",
    "                           deletion\n",
    "                           traversing\n",
    "                           searching\n",
    "                           sorting\n",
    "                           others\n",
    "                           "
   ]
  },
  {
   "cell_type": "code",
   "execution_count": null,
   "metadata": {
    "hidden": true
   },
   "outputs": [],
   "source": []
  },
  {
   "cell_type": "code",
   "execution_count": 2,
   "metadata": {
    "hidden": true
   },
   "outputs": [],
   "source": [
    "# creation\n",
    "str1 = 'string1'\n",
    "str2 = \"string2\"\n",
    "str3 = str(\"string3\")\n",
    "str4 = \"\"\"string4\"\"\"\n",
    "\n",
    "list1 = []\n",
    "list2 = ['apple', 4, 6.2]\n",
    "list3 = list(('black', 4, 23.8))\n",
    "\n",
    "tuple1 = ()\n",
    "tuple2 = ('apple', 4, 6.2)\n",
    "tuple3 = tuple(('black', 4, 23.8))\n",
    "\n",
    "#set1 = {} creates empty dictionary\n",
    "set1 = set()\n",
    "set2 = {1, 2, 3}\n",
    "set3 = set(('apple', 4, 6.2))\n",
    "\n",
    "tup = ()\n",
    "dict1 = {}\n",
    "dict2 = {1: \"Ford\", \"model\": \"Mustang\", tup: 1964}"
   ]
  },
  {
   "cell_type": "code",
   "execution_count": 43,
   "metadata": {
    "hidden": true
   },
   "outputs": [],
   "source": [
    "#insertion\n",
    "\n",
    "#str are immutbale\n",
    "\n",
    "list1 = [10, 20, 30]\n",
    "list1.insert(1, 'twenty')\n",
    "list1.append('forty')\n",
    "\n",
    "# tuple are immutable\n",
    "\n",
    "set1 = {10, 20, 30}\n",
    "set1.add('eighty')  #to add single element\n",
    "set1.update(list1)  #to add individual elements of iterables\n",
    "\n",
    "dict1 = {1: 'one', 2: 'two'}\n",
    "dict1[3] = 'three'\n",
    "dict1.update({4: 'four'})"
   ]
  },
  {
   "cell_type": "code",
   "execution_count": 51,
   "metadata": {
    "hidden": true
   },
   "outputs": [],
   "source": [
    "#access elements\n",
    "\n",
    "str1 = \"apple\"\n",
    "u = str1[0]\n",
    "\n",
    "list1 = [10, 20, 'thirty']\n",
    "v = list1[2]\n",
    "\n",
    "tuple1 = (10, 20, 30, 'forty')\n",
    "w = tuple1[3]\n",
    "\n",
    "# set are unordered, cannot access elements by index\n",
    "\n",
    "dict1 = {1: 'one', 2: 'two', 3: 30}\n",
    "x = dict1[2]\n",
    "y = dict1.get(3)"
   ]
  },
  {
   "cell_type": "code",
   "execution_count": 55,
   "metadata": {
    "hidden": true
   },
   "outputs": [],
   "source": [
    "# replace elements\n",
    "\n",
    "# str are immutable\n",
    "\n",
    "list1 = [10, 20, 'thirty']\n",
    "list1[2] = 30\n",
    "\n",
    "# tuple are immutable\n",
    "\n",
    "# set are unordered, so indexing dont work\n",
    "\n",
    "dict1 = {1: 'one', 2: 'two', 3: 30}\n",
    "dict1[2] = 'twenty'"
   ]
  },
  {
   "cell_type": "code",
   "execution_count": null,
   "metadata": {
    "hidden": true
   },
   "outputs": [],
   "source": [
    "# deletion: remove, pop, clear, del\n",
    "# remove = remove(value) removes first matching value\n",
    "# pop    = pop(index) removes and returns value\n",
    "# clear  = remove all items\n",
    "# del    = delete object\n",
    "\n",
    "# str are immutable\n",
    "str1 = 'string'\n",
    "str2 = 'string2'\n",
    "str3 = 'string3'\n",
    "del str1\n",
    "del (str2, str3)\n",
    "\n",
    "list1 = ['apple', 4, 6.2, 'banana', 'music', 51, 8, 0.4]\n",
    "list1.remove('banana')\n",
    "list1.pop(3)\n",
    "list1.clear()\n",
    "del list1\n",
    "\n",
    "#tuple are immutable\n",
    "tuple1 = (10, 20, 30, 'forty')\n",
    "tuple3 = tuple(('black', 4, 23.8))\n",
    "del tuple1, tuple3\n",
    "\n",
    "set1 = {1, 2, 3, 'grapes'}\n",
    "set1.remove(3)\n",
    "set1.pop()  # in sets pop() removes arbitrary element\n",
    "set1.clear()\n",
    "del set1\n",
    "\n",
    "dict1 = {1: 'one', 2: 'two', 3: 30, 4: 'forty'}\n",
    "dict1.pop(2)\n",
    "dict1.popitem()  # in dictionary popitem() removes last added element\n",
    "dict1.clear()\n",
    "del dict1\n",
    "\n",
    "print(dict1)"
   ]
  },
  {
   "cell_type": "code",
   "execution_count": null,
   "metadata": {
    "hidden": true
   },
   "outputs": [],
   "source": [
    "# Traversing: for loop, range(), enumerate(), while loop\n",
    "# str =  1,2,3,4\n",
    "# list = 1,2,3,4, list comprehension\n",
    "# tuple = 1,2,3,4\n",
    "# set = 1,3\n",
    "# dict = 1 loops over keys, dict.values() loop values, dict,items() loop items\n",
    "\n",
    "str1 = 'string'\n",
    "for i in str1:  # or my_str[0:len(my_str):1] or [start:end:step] or [::-1]\n",
    "    print(i)\n",
    "\n",
    "for i in range(len(str1)):\n",
    "    print(i, str1[i])\n",
    "\n",
    "for i, value in enumerate(str1):\n",
    "    print(i, value)\n",
    "\n",
    "i = 0\n",
    "while i < len(str1):\n",
    "    print(str1[i])\n",
    "    i += 1\n",
    "\n",
    "# list comprehension\n",
    "# newlist = [expression for item in iterable if condition == True]\n",
    "list1 = ['apple', 4, 6.2, 'banana', 'music', 51, 8, 0.4]\n",
    "[print(i) for i in list1]\n",
    "\n",
    "# set, enumerate function enumerate(i, value). i in not consistent\n",
    "set1 = {1, 2, 3, 'grapes'}\n",
    "for i, c in enumerate(set1):\n",
    "    print(i, c)\n",
    "\n",
    "#dict\n",
    "dict1 = {1: 'one', 2: 'two', 3: 30, 4: 'forty'}\n",
    "x = dict1.keys()\n",
    "y = dict1.values()\n",
    "z = dict1.values()\n",
    "\n",
    "for i in dict1:  # or dict1.keys()\n",
    "    print(i)\n",
    "\n",
    "for i in dict1.values():\n",
    "    print(i)\n",
    "\n",
    "for i in dict1.items():\n",
    "    print(i)"
   ]
  },
  {
   "cell_type": "code",
   "execution_count": 74,
   "metadata": {
    "hidden": true
   },
   "outputs": [
    {
     "name": "stdout",
     "output_type": "stream",
     "text": [
      "True\n",
      "17\n",
      "1\n",
      "-1\n"
     ]
    }
   ],
   "source": [
    "# searching: in, index(),count() > 0, find()\n",
    "# in = checks avaliblity,\n",
    "# index() = same as find() but raises exception if not found\n",
    "# find(sub,start,end) = gives index of 1st matching element\n",
    "\n",
    "# list 1,2,4\n",
    "# tuple 1,2,4\n",
    "# set 1\n",
    "# dict 1\n",
    "\n",
    "str1 = \"red black yellow blue green\"\n",
    "print('black' in str1)\n",
    "print(str1.index('blue'))\n",
    "print(str1.count('red'))\n",
    "print(str1.find('orange'))"
   ]
  },
  {
   "cell_type": "code",
   "execution_count": null,
   "metadata": {
    "hidden": true
   },
   "outputs": [],
   "source": [
    "# sort elements: sort() sorted()\n",
    "# sort() = sorts the actual iterable, sorted() = keeps orignal and returns sorted list\n",
    "\n",
    "# str are immutable\n",
    "str1 = 'apple'\n",
    "sorted_list = sorted(str1)\n",
    "sorted_str = tuple(sorted_str)\n",
    "\n",
    "list1 = [9, 8, 3, 3, 4, 1, 0]\n",
    "list1.sort()\n",
    "sorted_list = sorted(list1)\n",
    "\n",
    "# tuple are immutable\n",
    "tuple1 = (9, 8, 3, 3, 4, 1, 0)\n",
    "sorted_list = sorted(tuple1)\n",
    "sorted_tuple = tuple(sorted_list)\n",
    "\n",
    "# sets are unordered\n",
    "set1 = {9, 8, 3, 3, 4, 1, 0}\n",
    "sorted_list = sorted(set1)\n",
    "sorted_set1 = tuple(sorted_list)\n",
    "\n",
    "# dict are unordered\n",
    "# lists cannot be converted to dict, dict(sorted_list)\n",
    "dict1 = {1: 10, 2: 10, 3: 30}\n",
    "sorted_keys_list = sorted(dict1)  # or sorted(dict1.keys())\n",
    "sorted_values_list = sorted(dict1.values())"
   ]
  },
  {
   "cell_type": "code",
   "execution_count": null,
   "metadata": {
    "hidden": true
   },
   "outputs": [],
   "source": []
  },
  {
   "cell_type": "markdown",
   "metadata": {
    "heading_collapsed": true
   },
   "source": [
    "### Operators"
   ]
  },
  {
   "cell_type": "markdown",
   "metadata": {
    "hidden": true
   },
   "source": [
    "    1. Arithmetic : \n",
    "    2. Comparison :\n",
    "    3. Logical    :\n",
    "    4. Bitwise    :\n",
    "    5. Assignment : \n",
    "    5. Identity   :\n",
    "    6. Membership : "
   ]
  },
  {
   "cell_type": "code",
   "execution_count": null,
   "metadata": {
    "hidden": true
   },
   "outputs": [],
   "source": []
  },
  {
   "cell_type": "markdown",
   "metadata": {},
   "source": [
    "### Decision Making"
   ]
  },
  {
   "cell_type": "markdown",
   "metadata": {},
   "source": [
    "    1. if, elif, else\n",
    "    2. switch case using dictionary"
   ]
  },
  {
   "cell_type": "code",
   "execution_count": null,
   "metadata": {},
   "outputs": [],
   "source": []
  },
  {
   "cell_type": "markdown",
   "metadata": {
    "heading_collapsed": true
   },
   "source": [
    "### Loops"
   ]
  },
  {
   "cell_type": "code",
   "execution_count": null,
   "metadata": {
    "hidden": true
   },
   "outputs": [],
   "source": []
  },
  {
   "cell_type": "markdown",
   "metadata": {
    "hidden": true
   },
   "source": [
    "    1. for()\n",
    "    2. while()\n",
    "    3. Else block after loop\n",
    "    4. Loop control statements: break, continue, pass"
   ]
  },
  {
   "cell_type": "markdown",
   "metadata": {
    "heading_collapsed": true
   },
   "source": [
    "### Classes"
   ]
  },
  {
   "cell_type": "markdown",
   "metadata": {
    "heading_collapsed": true
   },
   "source": [
    "### OOPs"
   ]
  },
  {
   "cell_type": "code",
   "execution_count": null,
   "metadata": {
    "hidden": true
   },
   "outputs": [],
   "source": []
  }
 ],
 "metadata": {
  "kernelspec": {
   "display_name": "Python 3",
   "language": "python",
   "name": "python3"
  },
  "language_info": {
   "codemirror_mode": {
    "name": "ipython",
    "version": 3
   },
   "file_extension": ".py",
   "mimetype": "text/x-python",
   "name": "python",
   "nbconvert_exporter": "python",
   "pygments_lexer": "ipython3",
   "version": "3.8.3"
  },
  "toc": {
   "base_numbering": 1,
   "nav_menu": {},
   "number_sections": true,
   "sideBar": true,
   "skip_h1_title": false,
   "title_cell": "Table of Contents",
   "title_sidebar": "Contents",
   "toc_cell": false,
   "toc_position": {},
   "toc_section_display": true,
   "toc_window_display": true
  }
 },
 "nbformat": 4,
 "nbformat_minor": 4
}
