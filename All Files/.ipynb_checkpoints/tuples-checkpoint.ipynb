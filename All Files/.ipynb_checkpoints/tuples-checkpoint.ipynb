{
 "cells": [
  {
   "cell_type": "markdown",
   "metadata": {},
   "source": [
    "#### Tuple Properties"
   ]
  },
  {
   "cell_type": "markdown",
   "metadata": {},
   "source": [
    "1. immutable\n",
    "2. ordered\n",
    "3. allow duplicate items\n",
    "4. can hold any data-types\n"
   ]
  },
  {
   "cell_type": "markdown",
   "metadata": {},
   "source": [
    "#### creation"
   ]
  },
  {
   "cell_type": "code",
   "execution_count": 6,
   "metadata": {},
   "outputs": [
    {
     "name": "stdout",
     "output_type": "stream",
     "text": [
      "() <class 'tuple'>\n",
      "(10, 'abcd') <class 'tuple'>\n",
      "10 <class 'int'>\n",
      "(10,) <class 'tuple'>\n",
      "(10, 2.8, 'abcd') <class 'tuple'>\n"
     ]
    }
   ],
   "source": [
    "my_tuple = ()\n",
    "print(my_tuple, type(my_tuple))\n",
    "\n",
    "my_tuple2 = (10, 'abcd')\n",
    "print(my_tuple2, type(my_tuple2))\n",
    "\n",
    "my_tuple3 = (10)                    # not a tuple\n",
    "print(my_tuple3, type(my_tuple3))\n",
    "\n",
    "my_tuple3 = (10, )\n",
    "print(my_tuple3, type(my_tuple3))   # tuple with single item\n",
    "\n",
    "\n",
    "my_tuple4 = 10, 2.8, 'abcd'         # without parentheses\n",
    "print(my_tuple4, type(my_tuple4))\n"
   ]
  },
  {
   "cell_type": "markdown",
   "metadata": {},
   "source": [
    "#### insertion"
   ]
  },
  {
   "cell_type": "markdown",
   "metadata": {},
   "source": [
    "Tuples are immutable"
   ]
  },
  {
   "cell_type": "markdown",
   "metadata": {},
   "source": [
    "#### deletion"
   ]
  },
  {
   "cell_type": "markdown",
   "metadata": {},
   "source": [
    "tuples are immutable"
   ]
  },
  {
   "cell_type": "markdown",
   "metadata": {},
   "source": [
    "#### traverse"
   ]
  },
  {
   "cell_type": "code",
   "execution_count": 12,
   "metadata": {},
   "outputs": [
    {
     "name": "stdout",
     "output_type": "stream",
     "text": [
      "10\n",
      "2.8\n",
      "red\n",
      "24\n",
      "10\n",
      "2.8\n",
      "red\n",
      "24\n",
      "0 10\n",
      "1 2.8\n",
      "2 red\n",
      "3 24\n",
      "24\n",
      "red\n",
      "2.8\n",
      "10\n",
      "10\n",
      "2.8\n",
      "red\n",
      "24\n"
     ]
    }
   ],
   "source": [
    "my_tuple = (10, 2.8, 'red', 24)\n",
    "\n",
    "for i in my_tuple:                    # for loop\n",
    "    print(i)\n",
    "\n",
    "for i in range(len(my_tuple)):\n",
    "    print(my_tuple[i])\n",
    "    \n",
    "for i, item in enumerate(my_tuple):\n",
    "    print(i, item)\n",
    "    \n",
    "for i in my_tuple[::-1]:\n",
    "    print(i)\n",
    "\n",
    "i = 0\n",
    "while i < len(my_tuple):              # while loop\n",
    "    print(my_tuple[i])\n",
    "    i += 1"
   ]
  },
  {
   "cell_type": "markdown",
   "metadata": {},
   "source": [
    "#### search"
   ]
  },
  {
   "cell_type": "code",
   "execution_count": 23,
   "metadata": {},
   "outputs": [
    {
     "name": "stdout",
     "output_type": "stream",
     "text": [
      "1\n",
      "2\n"
     ]
    }
   ],
   "source": [
    "5 in (8, 5, 'black', 2.4, 'black',5)                  # in operator\n",
    "\n",
    "my_tuple = (8, 5, 'black', 2.4, 5)\n",
    "\n",
    "index_of_5 = my_tuple.index(5)\n",
    "print(index_of_5)\n",
    "\n",
    "\n",
    "count_5 = my_tuple.count(5)\n",
    "print(count_5)"
   ]
  },
  {
   "cell_type": "markdown",
   "metadata": {},
   "source": [
    "#### sort"
   ]
  },
  {
   "cell_type": "code",
   "execution_count": 27,
   "metadata": {},
   "outputs": [
    {
     "name": "stdout",
     "output_type": "stream",
     "text": [
      "[1, 3, 4, 5, 8]\n",
      "[8, 5, 4, 3, 1]\n"
     ]
    }
   ],
   "source": [
    "# tuples are immutable\n",
    "\n",
    "my_tuple = (5,8,1,3,4)\n",
    "\n",
    "sorted_tuple = sorted(my_tuple)       # sorted()\n",
    "print(sorted_tuple)\n",
    "\n",
    "reversed_tuple = sorted(my_tuple, reverse=True)\n",
    "print(reversed_tuple)"
   ]
  },
  {
   "cell_type": "markdown",
   "metadata": {},
   "source": [
    "#### concatinate"
   ]
  },
  {
   "cell_type": "code",
   "execution_count": 30,
   "metadata": {},
   "outputs": [
    {
     "name": "stdout",
     "output_type": "stream",
     "text": [
      "(1, 2, 3, 3, 4, 5)\n"
     ]
    }
   ],
   "source": [
    "tup1 = (1,2,3)\n",
    "tup2 = (3,4,5)\n",
    "\n",
    "tup3 = tup1 + tup2               # using + operator\n",
    "print(tup3)"
   ]
  },
  {
   "cell_type": "markdown",
   "metadata": {},
   "source": [
    "#### split"
   ]
  },
  {
   "cell_type": "code",
   "execution_count": 31,
   "metadata": {},
   "outputs": [
    {
     "name": "stdout",
     "output_type": "stream",
     "text": [
      "1\n",
      "2\n",
      "3\n",
      "4\n"
     ]
    }
   ],
   "source": [
    "tup = (1,2,3,4)\n",
    "\n",
    "one, two, three, four = tup         # unpacking\n",
    "print(one)\n",
    "print(two)\n",
    "print(three)\n",
    "print(four)"
   ]
  },
  {
   "cell_type": "code",
   "execution_count": null,
   "metadata": {},
   "outputs": [],
   "source": [
    "     "
   ]
  }
 ],
 "metadata": {
  "kernelspec": {
   "display_name": "Python 3",
   "language": "python",
   "name": "python3"
  },
  "language_info": {
   "codemirror_mode": {
    "name": "ipython",
    "version": 3
   },
   "file_extension": ".py",
   "mimetype": "text/x-python",
   "name": "python",
   "nbconvert_exporter": "python",
   "pygments_lexer": "ipython3",
   "version": "3.8.3"
  },
  "toc": {
   "base_numbering": 1,
   "nav_menu": {},
   "number_sections": true,
   "sideBar": true,
   "skip_h1_title": false,
   "title_cell": "Table of Contents",
   "title_sidebar": "Contents",
   "toc_cell": false,
   "toc_position": {},
   "toc_section_display": true,
   "toc_window_display": false
  }
 },
 "nbformat": 4,
 "nbformat_minor": 4
}
