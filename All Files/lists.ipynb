{
 "cells": [
  {
   "cell_type": "markdown",
   "metadata": {},
   "source": [
    "#### Lists Properties"
   ]
  },
  {
   "cell_type": "markdown",
   "metadata": {},
   "source": [
    "1. mutable\n",
    "2. ordered\n",
    "3. allow duplicate items\n",
    "4. can hold any data-types"
   ]
  },
  {
   "cell_type": "markdown",
   "metadata": {},
   "source": [
    "#### creation"
   ]
  },
  {
   "cell_type": "code",
   "execution_count": null,
   "metadata": {},
   "outputs": [],
   "source": [
    "my_list = []\n",
    "\n",
    "my_list2 = ['apple', 4, 6.2]\n",
    "\n",
    "my_list3 = list(('apple', 4, 6.2, 'red'))  # converting to list \n",
    "\n",
    "my_list4 = [x for x in my_list3]           # using list comprehension"
   ]
  },
  {
   "cell_type": "markdown",
   "metadata": {},
   "source": [
    "#### insertion"
   ]
  },
  {
   "cell_type": "code",
   "execution_count": null,
   "metadata": {},
   "outputs": [],
   "source": [
    "my_list3.append(20)           # gets added to last position\n",
    "\n",
    "my_list3.insert(0, 30)        # gets added to specified position\n",
    "\n",
    "my_list3.extend([40, 50])     # add multiple elements at last\n",
    "\n",
    "my_list3.extend((70, 80))"
   ]
  },
  {
   "cell_type": "markdown",
   "metadata": {},
   "source": [
    "#### deletion\n",
    "\n"
   ]
  },
  {
   "cell_type": "code",
   "execution_count": null,
   "metadata": {},
   "outputs": [],
   "source": [
    "my_list3.remove('apple')      # removes specified element \n",
    "\n",
    "item = my_list3.pop(0)        # removes and returns element from given position\n",
    "\n",
    "my_list3.clear()              # removes all items in list"
   ]
  },
  {
   "cell_type": "markdown",
   "metadata": {},
   "source": [
    "#### traverse"
   ]
  },
  {
   "cell_type": "code",
   "execution_count": null,
   "metadata": {},
   "outputs": [],
   "source": [
    "for i in my_list2:                    # using for loop\n",
    "    print(i)\n",
    "    \n",
    "for i in range(len(my_list2)):\n",
    "    print(i, my_list2[i])\n",
    "    \n",
    "for i, item in enumerate(my_list2):  \n",
    "    print(i, item)\n",
    "    \n",
    "i = 0                                 # using while loop\n",
    "while i < len(my_list2):\n",
    "    print(my_list2[i])\n",
    "    i += 1\n",
    "    \n",
    "[print(i) for i in my_list2]          # using list comprehension\n"
   ]
  },
  {
   "cell_type": "markdown",
   "metadata": {},
   "source": [
    "#### search"
   ]
  },
  {
   "cell_type": "code",
   "execution_count": null,
   "metadata": {},
   "outputs": [],
   "source": [
    "3 in [1, 2, 3, 4, 5]                                 # in operator\n",
    "\n",
    "index = [1, 2, 3].index(3)  # index of item\n",
    "indices = [i for i, x in enumerate([1, 2, 3, 3, 3])  # using list comprehension, enumerate\n",
    "           if x == 3]                     \n",
    "\n",
    "count_item = [1, 2, 3, 4, 5].count(3)               # getting the counts"
   ]
  },
  {
   "cell_type": "markdown",
   "metadata": {},
   "source": [
    "#### sort"
   ]
  },
  {
   "cell_type": "code",
   "execution_count": null,
   "metadata": {},
   "outputs": [],
   "source": [
    "orignal_list = [4,3,1,2]\n",
    "\n",
    "orignal_list.sort()                                # in-place sort  \n",
    "orignal_list.sort(reverse=True)\n",
    "\n",
    "new_list = sorted(orignal_list)                    # returns new sorted list, orignal list remains unxhanged\n",
    "new_list = sorted(orignal_list, reverse=True)"
   ]
  },
  {
   "cell_type": "markdown",
   "metadata": {},
   "source": [
    "#### concatinate"
   ]
  },
  {
   "cell_type": "code",
   "execution_count": null,
   "metadata": {},
   "outputs": [],
   "source": [
    "list_one = [1, 2, 3]\n",
    "list_two = [3, 4, 5]\n",
    "\n",
    "list_three = list_one + list_two  # using + operator\n",
    "\n",
    "list_one.extend(list_two)         # using extend keyword"
   ]
  }
 ],
 "metadata": {
  "kernelspec": {
   "display_name": "Python 3",
   "language": "python",
   "name": "python3"
  },
  "language_info": {
   "codemirror_mode": {
    "name": "ipython",
    "version": 3
   },
   "file_extension": ".py",
   "mimetype": "text/x-python",
   "name": "python",
   "nbconvert_exporter": "python",
   "pygments_lexer": "ipython3",
   "version": "3.8.3"
  },
  "toc": {
   "base_numbering": 1,
   "nav_menu": {},
   "number_sections": true,
   "sideBar": true,
   "skip_h1_title": false,
   "title_cell": "Table of Contents",
   "title_sidebar": "Contents",
   "toc_cell": false,
   "toc_position": {
    "height": "calc(100% - 180px)",
    "left": "10px",
    "top": "150px",
    "width": "320.713px"
   },
   "toc_section_display": true,
   "toc_window_display": true
  }
 },
 "nbformat": 4,
 "nbformat_minor": 4
}
