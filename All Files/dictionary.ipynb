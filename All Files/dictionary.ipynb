{
 "cells": [
  {
   "cell_type": "markdown",
   "metadata": {},
   "source": [
    "#### Dictionary Properties"
   ]
  },
  {
   "cell_type": "markdown",
   "metadata": {},
   "source": [
    "1. Mutable\n",
    "2. insertion ordered from 3.6v\n",
    "3. no duplicate keys\n",
    "4. values are stored in K:V pair k=imutable data-type"
   ]
  },
  {
   "cell_type": "markdown",
   "metadata": {},
   "source": [
    "#### creation"
   ]
  },
  {
   "cell_type": "code",
   "execution_count": null,
   "metadata": {},
   "outputs": [],
   "source": [
    "my_dict = {}\n",
    "print(my_dict, type(my_dict))\n",
    "\n",
    "my_dict2 = {1:'one', 2:'two', 3:'three'}\n",
    "print(my_dict2, type(my_dict2))\n",
    "\n",
    "my_dict3 = dict({1:'one', 2:'two', 3:'three'})\n",
    "print(my_dict3, type(my_dict3))\n",
    "\n",
    "my_dict4 = dict([(1,'one'),(2,'two')])\n",
    "print(my_dict4, type(my_dict4))"
   ]
  },
  {
   "cell_type": "markdown",
   "metadata": {},
   "source": [
    "#### insertion"
   ]
  },
  {
   "cell_type": "code",
   "execution_count": null,
   "metadata": {},
   "outputs": [],
   "source": [
    "my_dict = {1:'one', 2:'two', 3:'three'}\n",
    "\n",
    "my_dict[4] = 'four'              # using subscript notation\n",
    "print(my_dict)\n",
    "\n",
    "my_dict.update({5:'five'})         # update(), to add another dict\n",
    "print(my_dict)"
   ]
  },
  {
   "cell_type": "markdown",
   "metadata": {},
   "source": [
    "#### deletion"
   ]
  },
  {
   "cell_type": "code",
   "execution_count": null,
   "metadata": {},
   "outputs": [],
   "source": [
    "my_dict = {1:'one', 2:'two', 3:'three'}\n",
    "\n",
    "\n",
    "my_dict.pop(1)                      # pop(key) removes that paticular key\n",
    "print(my_dict)\n",
    "\n",
    "my_dict.popitem()                  # popitem() removes last added item\n",
    "print(my_dict)\n",
    "\n",
    "my_dict2 = {1:'one', 2:'two', 3:'three', 4:'four'}  # del keyword\n",
    "del my_dict2[2]\n",
    "print(my_dict2)   \n",
    "\n",
    "\n",
    "my_dict2.clear()                      # clear()\n",
    "print(my_dict2)"
   ]
  },
  {
   "cell_type": "markdown",
   "metadata": {},
   "source": [
    "#### traverse"
   ]
  },
  {
   "cell_type": "code",
   "execution_count": null,
   "metadata": {},
   "outputs": [],
   "source": [
    "my_dict = {1:'one', 2:'two', 3:'three'}\n",
    "\n",
    "# iterate over all keys\n",
    "for i in my_dict:\n",
    "    print(i)\n",
    "\n",
    "for i in my_dict.keys():\n",
    "    print(i)\n",
    "    \n",
    "\n",
    "    \n",
    "    \n",
    "# iterate over all values\n",
    "for i in my_dict.values():\n",
    "    print(i)\n",
    "\n",
    "    \n",
    "    \n",
    "# iterate over all items\n",
    "for k,v in my_dict.items():\n",
    "    print(k,v)"
   ]
  },
  {
   "cell_type": "markdown",
   "metadata": {},
   "source": [
    "#### search"
   ]
  },
  {
   "cell_type": "code",
   "execution_count": 29,
   "metadata": {},
   "outputs": [
    {
     "data": {
      "text/plain": [
       "True"
      ]
     },
     "execution_count": 29,
     "metadata": {},
     "output_type": "execute_result"
    }
   ],
   "source": [
    "my_dict = {1:'one', 2:'two', 3:'three'}\n",
    "\n",
    "\n",
    "# check if key is already present\n",
    "1 in my_dict.keys()\n",
    "\n",
    "# check if value is already present \n",
    "'one' in my_dict.values()\n"
   ]
  },
  {
   "cell_type": "markdown",
   "metadata": {},
   "source": [
    "#### sort"
   ]
  },
  {
   "cell_type": "markdown",
   "metadata": {},
   "source": [
    "dictionary maintain insertion order"
   ]
  },
  {
   "cell_type": "markdown",
   "metadata": {},
   "source": [
    "#### concatinate"
   ]
  },
  {
   "cell_type": "code",
   "execution_count": 34,
   "metadata": {},
   "outputs": [
    {
     "name": "stdout",
     "output_type": "stream",
     "text": [
      "{1: 'one', 2: 'two', 3: 'three', 4: 'four', 5: 'five', 6: 'six'}\n"
     ]
    }
   ],
   "source": [
    "dictA = {1:'one', 2:'two', 3:'three'}\n",
    "dictB = {4:'four', 5:'five', 6:'six'}\n",
    "\n",
    "dictA.update(dictB)       # update()\n",
    "print(dictA)"
   ]
  },
  {
   "cell_type": "markdown",
   "metadata": {},
   "source": [
    "#### split"
   ]
  },
  {
   "cell_type": "code",
   "execution_count": 37,
   "metadata": {},
   "outputs": [
    {
     "name": "stdout",
     "output_type": "stream",
     "text": [
      "dict_keys([4, 5, 6]) <class 'dict_keys'>\n",
      "dict_values(['four', 'five', 'six']) <class 'dict_values'>\n"
     ]
    }
   ],
   "source": [
    "# getting keys and values into seperate values\n",
    "dictB = {4:'four', 5:'five', 6:'six'}\n",
    "\n",
    "\n",
    "\n",
    "keys_values = dictB.keys()\n",
    "values_values = dictB.values()\n",
    "\n",
    "print(keys_list, type(keys_list))\n",
    "print(values_list, type(values_list))\n",
    "\n",
    "\n"
   ]
  },
  {
   "cell_type": "code",
   "execution_count": null,
   "metadata": {},
   "outputs": [],
   "source": []
  }
 ],
 "metadata": {
  "kernelspec": {
   "display_name": "Python 3",
   "language": "python",
   "name": "python3"
  },
  "language_info": {
   "codemirror_mode": {
    "name": "ipython",
    "version": 3
   },
   "file_extension": ".py",
   "mimetype": "text/x-python",
   "name": "python",
   "nbconvert_exporter": "python",
   "pygments_lexer": "ipython3",
   "version": "3.8.3"
  },
  "toc": {
   "base_numbering": 1,
   "nav_menu": {},
   "number_sections": true,
   "sideBar": true,
   "skip_h1_title": false,
   "title_cell": "Table of Contents",
   "title_sidebar": "Contents",
   "toc_cell": false,
   "toc_position": {},
   "toc_section_display": true,
   "toc_window_display": true
  }
 },
 "nbformat": 4,
 "nbformat_minor": 4
}
